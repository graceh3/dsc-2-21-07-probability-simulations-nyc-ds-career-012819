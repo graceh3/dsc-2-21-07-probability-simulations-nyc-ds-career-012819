{
 "cells": [
  {
   "cell_type": "markdown",
   "metadata": {},
   "source": [
    "# Simulations with Conditional and Total Probability - Lab\n",
    "\n",
    "## Introduction\n",
    "In this lab , we shall run simulations for simple total probability problems. We shall solve these problems by hand and also perform random sampling from a defined probability distribution repeatedly to see if our calculated results match with the results of random simulations. \n",
    "\n",
    "## Objectives\n",
    "You will be able to:\n",
    "* Perform simple random simulations using Numpy\n",
    "* Run simulations with conditional probabilities, total probability, and the product rule\n",
    "\n",
    "\n",
    "## Exercise 1\n",
    "### Part 1\n",
    "\n",
    "Suppose you have two bags of marbles. The first bag contains 6 white marbles and 4 black marbles. The second bag contains 3 white marbles and 7 black marbles. Now suppose you put the two bags in a box. Now if you close your eyes, grab a bag from the box, and then grab a marble from the bag, \n",
    "\n",
    "**what is the probability that it is black**? "
   ]
  },
  {
   "cell_type": "code",
   "execution_count": 1,
   "metadata": {},
   "outputs": [
    {
     "data": {
      "text/plain": [
       "0.55"
      ]
     },
     "execution_count": 1,
     "metadata": {},
     "output_type": "execute_result"
    }
   ],
   "source": [
    "# Your solution here \n",
    "\n",
    "prob_1 = 0.5\n",
    "prob_2 = 0.5\n",
    "prob_B_given_1 = 0.4\n",
    "prob_W_given_1 = 0.6\n",
    "prob_B_given_2 = 0.7\n",
    "prob_W_given_2 = 0.3\n",
    "\n",
    "prob_B = (prob_B_given_1*prob_1) + (prob_B_given_2*prob_2)\n",
    "prob_B"
   ]
  },
  {
   "cell_type": "markdown",
   "metadata": {},
   "source": [
    "The probability is 11/10 or 0.55"
   ]
  },
  {
   "cell_type": "markdown",
   "metadata": {},
   "source": [
    "### Part 2\n",
    "runs a simple simulation to estimate the probability of drawing a marble of a particular color. Run the code and verify that it agrees with the by-hand computation. \n",
    "\n",
    "#### Perform following tasks:\n",
    "\n",
    "* Create dictionaries for bag1 and bag2 holding marble color and probability values as:\n",
    "\n",
    "    * **bag = {'marbles' : np.array([\"color1\", \"color2\"]), 'probs' : np.array([P(color1), P(color2)])}**\n",
    "    \n",
    "    \n",
    "* Create a dictionary for box holding bags and their \n",
    "\n",
    "    * **box  = {'bags' : np.array([bag1, bag2]), 'probs' : np.array([P(bag1),P(bag2)])}**\n",
    "    \n",
    "    \n",
    "* Show the content of your dictionaries"
   ]
  },
  {
   "cell_type": "code",
   "execution_count": 69,
   "metadata": {},
   "outputs": [
    {
     "data": {
      "text/plain": [
       "({'name': 'bag1',\n",
       "  'marbles': array(['black', 'white'], dtype='<U5'),\n",
       "  'probs': array([0.4, 0.6])},\n",
       " {'name': 'bag2',\n",
       "  'marbles': array(['black', 'white'], dtype='<U5'),\n",
       "  'probs': array([0.7, 0.3])},\n",
       " {'bags': array([{'name': 'bag1', 'marbles': array(['black', 'white'], dtype='<U5'), 'probs': array([0.4, 0.6])},\n",
       "         {'name': 'bag2', 'marbles': array(['black', 'white'], dtype='<U5'), 'probs': array([0.7, 0.3])}],\n",
       "        dtype=object), 'probs': array([0.5, 0.5])})"
      ]
     },
     "execution_count": 69,
     "metadata": {},
     "output_type": "execute_result"
    }
   ],
   "source": [
    "import numpy as np\n",
    "bag1 = {'marbles' : np.array([\"black\", \"white\"]), 'probs' : np.array([0.4, 0.6])}\n",
    "bag2 = {'marbles' : np.array([\"black\", \"white\"]), 'probs' : np.array([0.7, 0.3])}\n",
    "box  = {'bags' : np.array([bag1, bag2]), 'probs' : np.array([0.5,0.5])}\n",
    "\n",
    "bag1, bag2, box\n",
    "\n",
    "# ({'marbles': array(['black', 'white'], dtype='<U5'),\n",
    "#   'probs': array([0.4, 0.6])},\n",
    "\n",
    "#  {'marbles': array(['black', 'white'], dtype='<U5'),\n",
    "#   'probs': array([0.7, 0.3])},\n",
    "\n",
    "#  {'bags': array([{'marbles': array(['black', 'white'], dtype='<U5'), 'probs': array([0.4, 0.6])},\n",
    "#          {'marbles': array(['black', 'white'], dtype='<U5'), 'probs': array([0.7, 0.3])}],\n",
    "#         dtype=object), 'probs': array([0.5, 0.5])})"
   ]
  },
  {
   "cell_type": "markdown",
   "metadata": {},
   "source": [
    "#### Create a function `sample_marble(box)` that randomly chooses a bag from the box and then randomly chooses a marble from the bag "
   ]
  },
  {
   "cell_type": "code",
   "execution_count": 85,
   "metadata": {},
   "outputs": [
    {
     "data": {
      "text/plain": [
       "'black'"
      ]
     },
     "execution_count": 85,
     "metadata": {},
     "output_type": "execute_result"
    }
   ],
   "source": [
    "def sample_marble(box):\n",
    "    # randomly choose a bag \n",
    "    random_bag = np.random.choice(box['bags'], p=box['probs'])\n",
    "    \n",
    "    # randomly choose a marble \n",
    "    random_marble = np.random.choice(random_bag['marbles'], p=random_bag['probs']) \n",
    "    return random_marble\n",
    "\n",
    "sample_marble(box)\n",
    "# 'black' OR 'white'\n",
    "\n",
    "\n",
    "\n",
    "# bag = np.random.choice(box['bags'], p = box['probs'])\n",
    "#     # randomly choose a marble \n",
    "#     return np.random.choice(bag['marbles'], p = bag['probs'])"
   ]
  },
  {
   "cell_type": "markdown",
   "metadata": {},
   "source": [
    "#### Create another function `probability_of_colors(color, box, num_samples)` to get a given number of samples from `sample_marbles()` and computes the fraction of a marble of desired color"
   ]
  },
  {
   "cell_type": "code",
   "execution_count": 86,
   "metadata": {},
   "outputs": [],
   "source": [
    "def probability_of_color(color, box, num_samples=1000):\n",
    "    # get a bunch of marbles \n",
    "    counter = 0\n",
    "    for i in range(num_samples):\n",
    "        marble = sample_marble(box)\n",
    "        if marble == color:\n",
    "            counter += 1\n",
    "        else:\n",
    "            continue\n",
    "    # compute fraction of marbles of desired color \n",
    "    return counter / num_samples"
   ]
  },
  {
   "cell_type": "markdown",
   "metadata": {},
   "source": [
    "Now let's run our function in line with our original problem i.e. the probability of seeing a black marble by sampling form the box 100000 times. "
   ]
  },
  {
   "cell_type": "code",
   "execution_count": 87,
   "metadata": {},
   "outputs": [
    {
     "data": {
      "text/plain": [
       "0.55023"
      ]
     },
     "execution_count": 87,
     "metadata": {},
     "output_type": "execute_result"
    }
   ],
   "source": [
    "# probability_of_color(\"black\", box, num_samples=100000)\n",
    "probability_of_color('black', box, num_samples=100000)\n",
    "\n",
    "# very close to 0.55"
   ]
  },
  {
   "cell_type": "code",
   "execution_count": null,
   "metadata": {},
   "outputs": [],
   "source": [
    "# Comment on your answer"
   ]
  },
  {
   "cell_type": "markdown",
   "metadata": {},
   "source": [
    "### Exercise 2 - More Marbles \n",
    "\n",
    "\n",
    "Suppose now we add a third color to the mix.  Bag 1 now contains 6 white marbles, 4 black marbles, and 5 gray marbles (15 total).  Bag 2 now contains 3 white marbles, 7 black marbles, and 5 gray marbles (15 total).  \n",
    "\n",
    "**The probability of grabbing the first bag from the box is now TWICE the probability of grabbing the second bag.** \n",
    "\n",
    "What is the probability of drawing a gray marble from the bag according to law of total probabilities?  "
   ]
  },
  {
   "cell_type": "code",
   "execution_count": 98,
   "metadata": {},
   "outputs": [],
   "source": [
    "bag3 = {'marbles' : np.array([\"black\", \"white\", \"gray\"]), 'probs' : np.array([4/15, 6/15, 5/15])}\n",
    "bag4 = {'marbles' : np.array([\"black\", \"white\", \"gray\"]), 'probs' : np.array([7/15, 3/15, 5/15])}\n",
    "box  = {'bags' : np.array([bag3, bag4]), 'probs' : np.array([0.667,0.333])}\n"
   ]
  },
  {
   "cell_type": "code",
   "execution_count": 99,
   "metadata": {},
   "outputs": [
    {
     "data": {
      "text/plain": [
       "0.3330000000000001"
      ]
     },
     "execution_count": 99,
     "metadata": {},
     "output_type": "execute_result"
    }
   ],
   "source": [
    "# Your Solution here \n",
    "\n",
    "prob_gray = (.333*0.667) + (.333**2)\n",
    "prob_gray"
   ]
  },
  {
   "cell_type": "markdown",
   "metadata": {},
   "source": [
    "#### Copy and paste the code from the exercise above and modify it to estimate the probability that you just computed and check your work."
   ]
  },
  {
   "cell_type": "code",
   "execution_count": 100,
   "metadata": {},
   "outputs": [],
   "source": [
    "# Change above code here \n",
    "def sample_marble(box):\n",
    "    # randomly choose a bag \n",
    "    random_bag = np.random.choice(box['bags'], p=box['probs'])\n",
    "    \n",
    "    # randomly choose a marble \n",
    "    random_marble = np.random.choice(random_bag['marbles'], p=random_bag['probs']) \n",
    "    return random_marble\n"
   ]
  },
  {
   "cell_type": "code",
   "execution_count": 101,
   "metadata": {},
   "outputs": [
    {
     "data": {
      "text/plain": [
       "0.33224"
      ]
     },
     "execution_count": 101,
     "metadata": {},
     "output_type": "execute_result"
    }
   ],
   "source": [
    "# probability_of_color(\"gray\", box, num_samples=100000)\n",
    "probability_of_color('gray', box, num_samples=100000)\n",
    "\n",
    "\n",
    "# Very close to 0.33"
   ]
  },
  {
   "cell_type": "code",
   "execution_count": null,
   "metadata": {},
   "outputs": [],
   "source": [
    "# Record your comments "
   ]
  },
  {
   "cell_type": "markdown",
   "metadata": {},
   "source": [
    "## Summary \n",
    "\n",
    "In this lab , we looked at some more examples of simple problems using law of total probability. We also attempted to run simulations to solve these problems by continuous random sampling. We saw that we get almost the same results through random sampling as we do from solving mathematical equations. consider the difference in computation while running these simulations and calculating a simple formula. For much complex problems with larger datasets, having an understanding the underlying probabilities can help you solve a lot of optimization problems as we shall see ahead. "
   ]
  }
 ],
 "metadata": {
  "kernelspec": {
   "display_name": "Python 3",
   "language": "python",
   "name": "python3"
  },
  "language_info": {
   "codemirror_mode": {
    "name": "ipython",
    "version": 3
   },
   "file_extension": ".py",
   "mimetype": "text/x-python",
   "name": "python",
   "nbconvert_exporter": "python",
   "pygments_lexer": "ipython3",
   "version": "3.6.6"
  }
 },
 "nbformat": 4,
 "nbformat_minor": 2
}
